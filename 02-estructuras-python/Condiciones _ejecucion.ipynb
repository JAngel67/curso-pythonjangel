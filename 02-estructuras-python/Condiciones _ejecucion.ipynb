{
 "cells": [
  {
   "cell_type": "markdown",
   "metadata": {},
   "source": [
    "# Condición y Ejeciución condicional "
   ]
  },
  {
   "cell_type": "markdown",
   "metadata": {},
   "source": [
    "## ejercicio 1 condicional simple\n"
   ]
  },
  {
   "cell_type": "code",
   "execution_count": 14,
   "metadata": {},
   "outputs": [
    {
     "name": "stdout",
     "output_type": "stream",
     "text": [
      "el numero  10 es menor a 20\n",
      "fin del programa\n"
     ]
    }
   ],
   "source": [
    "numero1 = 10\n",
    "numero2 = 20\n",
    "if numero1 < numero2:\n",
    "    print(\"el numero \", numero1,\"es menor a\",numero2)\n",
    "print(\"fin del programa\")"
   ]
  },
  {
   "cell_type": "code",
   "execution_count": 16,
   "metadata": {},
   "outputs": [],
   "source": [
    "numero1 = input(\"Introduce el primer numero:\")\n",
    "numero1= float(numero1)\n",
    "numero2= float(input(\"introduce el segundo numero\"))\n",
    "if numero1 > numero2:\n",
    "    print(f\" El numero {numero1} es mayor que el numero {numero2}\")\n",
    "\n",
    "                   "
   ]
  },
  {
   "cell_type": "code",
   "execution_count": 32,
   "metadata": {},
   "outputs": [
    {
     "name": "stdout",
     "output_type": "stream",
     "text": [
      "Nombre: dfs\n",
      "Calificación 1: 8.0\n",
      "Calificación 2: 9.0\n",
      "Calificacion 3: 10.0\n",
      "Promedio: 9.0\n",
      "Fin del Programa\n",
      "No aprobado\n"
     ]
    }
   ],
   "source": [
    "nombre= input(\"introduce el nombre\")\n",
    "calif1= float(input(\"introduce la primera calificación\"))\n",
    "calif2= float(input(\"introduce la segunda calificacion\"))\n",
    "calif3= float(input(\"introduce la tercera calificación\"))\n",
    "promedio=(calif1+calif2+calif3)/3                \n",
    "          \n",
    "if promedio >= 7.0:\n",
    "       print(f\"Nombre: {nombre}\\nCalificación 1: {calif1}\\nCalificación 2: {calif2}\\nCalificacion 3: {calif3}\\nPromedio: {promedio}\")\n",
    "       print(\"Fin del Programa\")\n",
    "print (\"No aprobado\")"
   ]
  },
  {
   "cell_type": "code",
   "execution_count": 34,
   "metadata": {},
   "outputs": [
    {
     "name": "stdout",
     "output_type": "stream",
     "text": [
      " El numero 5, no es par\n"
     ]
    }
   ],
   "source": [
    "numero= int(input(\"introduce el primer numero\"))\n",
    "if numero % 2 == 0:\n",
    "    print(f\" El numero {numero}, par\")\n",
    "else:\n",
    "     print(f\" El numero {numero}, no es par\")\n",
    "    "
   ]
  },
  {
   "cell_type": "markdown",
   "metadata": {},
   "source": [
    "## Estructura doble"
   ]
  },
  {
   "cell_type": "code",
   "execution_count": 39,
   "metadata": {},
   "outputs": [
    {
     "name": "stdout",
     "output_type": "stream",
     "text": [
      "eres de secundaria\n"
     ]
    }
   ],
   "source": [
    "#grado = grado.upper()\n",
    "grado= input(\"introduce el grado\")\n",
    "if grado == \"PRIMARIA\":\n",
    "    print(\"eres de primaria\")\n",
    "elif grado == \"SECUNDARIA\":\n",
    "    print(\"eres de secundaria\")\n",
    "elif grado== \"PREPARATORIA\":\n",
    "    print(\"eres de prepa\")\n",
    "else:\n",
    "    print(\" no tienes grado validi\")"
   ]
  },
  {
   "cell_type": "code",
   "execution_count": null,
   "metadata": {},
   "outputs": [],
   "source": [
    "#grado = grado.upper()\n",
    "\n",
    "numero1= int(input(\"introduce el primer numero\"))\n",
    "numero2= int(input(\"introduce el segundo numero\"))\n",
    "operacion=input(\"intruduce el tipo de operación\")\n",
    "if operacion == \"SUMA\":\n",
    "    SUMA = Numero1 + Numnero2\n",
    "elif grado == \"SECUNDARIA\":\n",
    "    print(\"eres de secundaria\")\n",
    "elif grado== \"PREPARATNuORIA\":\n",
    "    print(\"eres de prepa\")\n",
    "else:\n",
    "    print(\" no tienes grado validi\")"
   ]
  },
  {
   "cell_type": "markdown",
   "metadata": {},
   "source": [
    "# Bucles o cliclos en Python\n",
    "## Bucles en el codigo con while "
   ]
  },
  {
   "cell_type": "code",
   "execution_count": 40,
   "metadata": {},
   "outputs": [
    {
     "name": "stdout",
     "output_type": "stream",
     "text": [
      "hola Python\n",
      "hola Python\n",
      "hola Python\n",
      "hola Python\n",
      "hola Python\n"
     ]
    }
   ],
   "source": [
    "i=1\n",
    "while i<=5:\n",
    "    print( \"hola Python\")\n",
    "    i=i+1\n"
   ]
  },
  {
   "cell_type": "code",
   "execution_count": 44,
   "metadata": {},
   "outputs": [
    {
     "name": "stdout",
     "output_type": "stream",
     "text": [
      "numero 1\n",
      "numero 2\n",
      "numero 3\n",
      "numero 4\n",
      "numero 5\n",
      "numero 6\n",
      "numero 7\n",
      "numero 8\n",
      "numero 9\n",
      "numero 10\n"
     ]
    }
   ],
   "source": [
    "numero= int(input(\"introduce el numero\"))\n",
    "i=1\n",
    "while i<=numero:\n",
    "    print(f\"numero {i}\")\n",
    "    i=i+1"
   ]
  }
 ],
 "metadata": {
  "kernelspec": {
   "display_name": "cursopythonuttt",
   "language": "python",
   "name": "python3"
  },
  "language_info": {
   "codemirror_mode": {
    "name": "ipython",
    "version": 3
   },
   "file_extension": ".py",
   "mimetype": "text/x-python",
   "name": "python",
   "nbconvert_exporter": "python",
   "pygments_lexer": "ipython3",
   "version": "3.12.4"
  },
  "orig_nbformat": 4
 },
 "nbformat": 4,
 "nbformat_minor": 2
}
